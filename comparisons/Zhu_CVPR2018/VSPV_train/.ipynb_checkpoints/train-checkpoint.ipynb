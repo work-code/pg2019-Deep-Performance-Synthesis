{
 "cells": [
  {
   "cell_type": "markdown",
   "metadata": {},
   "source": [
    "# train mask net"
   ]
  },
  {
   "cell_type": "code",
   "execution_count": null,
   "metadata": {
    "collapsed": true
   },
   "outputs": [],
   "source": [
    "import caffe\n",
    "import numpy as np\n",
    "import sys\n",
    "sys.path.append(caffe_root + 'python')\n",
    "sys.path.append(\"./model/python_layers/\")\n",
    "\n",
    "caffe_root = './caffe_VSPV/'\n",
    "\n",
    "caffe.set_mode_gpu()\n",
    "\n",
    "# read solver\n",
    "solver = caffe.AdamSolver('./solver/mySolver_MaskNet.prototxt')\n",
    "\n",
    "#solver.restore('./snapshot/MN/iter_iter_100000.solverstate')\n",
    "\n",
    "for iter in range(200000):\n",
    "    solver.step(1)\n",
    "    if iter%10 == 0:\n",
    "        print \"{} {}\".format(solver.iter,solver.net.blobs['maskLoss'].data[0,0,0,0])"
   ]
  },
  {
   "cell_type": "code",
   "execution_count": null,
   "metadata": {},
   "outputs": [],
   "source": []
  },
  {
   "cell_type": "code",
   "execution_count": null,
   "metadata": {},
   "outputs": [],
   "source": []
  },
  {
   "cell_type": "markdown",
   "metadata": {},
   "source": [
    "# train flow net"
   ]
  },
  {
   "cell_type": "code",
   "execution_count": null,
   "metadata": {},
   "outputs": [],
   "source": [
    "import caffe\n",
    "import numpy as np\n",
    "import sys\n",
    "sys.path.append(caffe_root + 'python')\n",
    "sys.path.append(\"./model/python_layers/\") \n",
    "\n",
    "caffe_root = './caffe_VSPV/'\n",
    "\n",
    "caffe.set_mode_gpu()\n",
    "\n",
    "# read solver\n",
    "solver = caffe.AdamSolver('./solver/mySolver_FlowNet.prototxt')\n",
    "\n",
    "#solver.restore('./snapshot/FN/iter_iter_170000.solverstate')\n",
    "\n",
    "# small model\n",
    "# L1 flow loss + 0.01 L1 img loss\n",
    "for iter in range(190010):\n",
    "    solver.step(1)\n",
    "    if iter%10 == 0:\n",
    "        print \"{} {} {}\".format(solver.iter,solver.net.blobs['flowL1Loss'].data[0,0,0,0],solver.net.blobs['imgLoss'].data[0,0,0,0])"
   ]
  },
  {
   "cell_type": "code",
   "execution_count": null,
   "metadata": {},
   "outputs": [],
   "source": []
  },
  {
   "cell_type": "code",
   "execution_count": null,
   "metadata": {},
   "outputs": [],
   "source": []
  },
  {
   "cell_type": "markdown",
   "metadata": {},
   "source": [
    "# train depth net"
   ]
  },
  {
   "cell_type": "code",
   "execution_count": null,
   "metadata": {},
   "outputs": [],
   "source": [
    "import caffe\n",
    "import numpy as np\n",
    "import sys\n",
    "sys.path.append(caffe_root + 'python')\n",
    "sys.path.append(\"./model/python_layers/\")\n",
    "\n",
    "caffe_root = './caffe_VSPV/'\n",
    "\n",
    "caffe.set_mode_gpu()\n",
    "\n",
    "# read solver\n",
    "solver = caffe.AdamSolver('./solver/mySolver_DepthNet.prototxt')\n",
    "\n",
    "#solver.restore('./snapshot/snapshot_mySolver_iter_150000.solverstate')\n",
    "\n",
    "# from scratch test\n",
    "for iter in range(10):\n",
    "    solver.step(1)\n",
    "    if iter%10 == 0:\n",
    "        print \"{} {}\".format(solver.iter,solver.net.blobs['loss'].data[0,0,0,0])"
   ]
  },
  {
   "cell_type": "code",
   "execution_count": null,
   "metadata": {},
   "outputs": [],
   "source": []
  },
  {
   "cell_type": "code",
   "execution_count": null,
   "metadata": {},
   "outputs": [],
   "source": []
  }
 ],
 "metadata": {
  "anaconda-cloud": {},
  "kernelspec": {
   "display_name": "Python 3",
   "language": "python",
   "name": "python3"
  },
  "language_info": {
   "codemirror_mode": {
    "name": "ipython",
    "version": 2
   },
   "file_extension": ".py",
   "mimetype": "text/x-python",
   "name": "python",
   "nbconvert_exporter": "python",
   "pygments_lexer": "ipython2",
   "version": "2.7.15"
  }
 },
 "nbformat": 4,
 "nbformat_minor": 1
}
