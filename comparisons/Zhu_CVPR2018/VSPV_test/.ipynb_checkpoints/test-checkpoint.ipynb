{
 "cells": [
  {
   "cell_type": "code",
   "execution_count": 1,
   "metadata": {},
   "outputs": [],
   "source": [
    "import numpy as np\n",
    "import matplotlib.pyplot as plt\n",
    "import PIL\n",
    "import scipy\n",
    "import skimage\n",
    "from skimage.morphology import disk\n",
    "import sys\n",
    "sys.path.append('./utility/')\n",
    "from show_functions import display_img_array\n",
    "from project_functions import DepthMap2XyzImage\n",
    "from project_functions import xyzImage2ForwardFlow\n",
    "from project_functions import getKRtCArray\n",
    "from project_functions import getBiasMat\n",
    "from remap_functions import remap\n",
    "\n",
    "#import pycaffe\n",
    "sys.path.append('./caffe_VSPV/python/')\n",
    "import caffe\n",
    "\n",
    "caffe.set_mode_gpu()\n",
    "\n",
    "sys.path.append(\"./model/python_layers/\")\n",
    "DN = caffe.Net('./model/DepthNet_deploy.prototxt','./snapshot/DN/iter_iter_200000.caffemodel', caffe.TEST)\n",
    "FN = caffe.Net('./model/FlowNet_deploy.prototxt','./snapshot/FN/iter_iter_170000.caffemodel', caffe.TEST)\n",
    "MN = caffe.Net('./model/MaskNet_deploy.prototxt','./snapshot/MN/iter_iter_100000.caffemodel', caffe.TEST)\n",
    "\n",
    "K, Rt_arr, C_arr = getKRtCArray()\n",
    "\n",
    "\n",
    "from skimage.morphology import disk\n",
    "\n",
    "def forward2backwardMap(forward_flow):\n",
    "    backward_map = np.zeros((200,200))\n",
    "    for x in range(0,200):\n",
    "        for y in range(0,200):\n",
    "            if((forward_flow[0,x,y]!=0)|(forward_flow[1,x,y]!=0)):\n",
    "                uu = x+forward_flow[1,x,y]\n",
    "                vv = y+forward_flow[0,x,y]\n",
    "                uu = int(uu+0.5)\n",
    "                vv = int(vv+0.5)\n",
    "                \n",
    "                if uu<0 or vv<0 or uu>=200 or vv>=200:\n",
    "                    continue\n",
    "                        \n",
    "                backward_map[uu,vv] = 1\n",
    "                \n",
    "    return backward_map\n"
   ]
  },
  {
   "cell_type": "code",
   "execution_count": 124,
   "metadata": {},
   "outputs": [
    {
     "data": {
      "image/png": "[encoded data removed]",
      "text/plain": [
       "<IPython.core.display.Image object>"
      ]
     },
     "metadata": {},
     "output_type": "display_data"
    }
   ],
   "source": [
    "num_tform = 5\n",
    "test_num = 5860\n",
    "\n",
    "src_mask = np.asarray(PIL.Image.open('/media/hao/Data/DataSetGenerating9/image_200x200/{}_9_m.png'.format(test_num)))\n",
    "src_mask = src_mask[:,:,3]\n",
    "src_mask.setflags(write=1)\n",
    "low_values_indices = src_mask < 128\n",
    "src_mask[low_values_indices] = 0\n",
    "high_values_indices = src_mask >= 128\n",
    "src_mask[high_values_indices] = 1\n",
    "\n",
    "# 1 load RGB image\n",
    "src_img = np.asarray(PIL.Image.open('/media/hao/Data/DataSetGenerating9/image_200x200/{}_9_c.png'.format(test_num)))\n",
    "src_img = src_img[:,:,:3]\n",
    "src_img = np.rollaxis(src_img,2,0)\n",
    "\n",
    "src_img_hr = np.asarray(PIL.Image.open('/media/hao/Data/DataSetGenerating9/image_500x500/{}_9_c.png'.format(test_num)))\n",
    "src_img_hr = src_img_hr[:,:,:3]\n",
    "src_img_hr = np.rollaxis(src_img_hr,2,0)\n",
    "\n",
    "tform_vec = np.zeros(18)\n",
    "tform_vec[num_tform] = 1\n",
    "\n",
    "tgt_img = np.asarray(PIL.Image.open('/media/hao/Data/DataSetGenerating9/image_200x200/{}_{}_c.png'.format(test_num,num_tform)))\n",
    "tgt_img = tgt_img[:,:,:3]\n",
    "tgt_img = np.rollaxis(tgt_img,2,0)\n",
    "\n",
    "DN.blobs['srcImg'].data[0] = src_img\n",
    "DN.forward()\n",
    "predDepth = DN.blobs['final'].data[0,0]\n",
    "predDepth = predDepth * src_mask\n",
    "\n",
    "# depth 2 forward flow\n",
    "xyz_image= DepthMap2XyzImage(predDepth, K, Rt_arr[9])\n",
    "forward_flow = xyzImage2ForwardFlow(xyz_image, K, Rt_arr[num_tform])\n",
    "\n",
    "FN.blobs['forward_flow'].data[0] = forward_flow\n",
    "FN.blobs['gt_xyz'].data[0] = xyz_image\n",
    "FN.blobs['srcImg'].data[0] = src_img\n",
    "FN.forward()\n",
    "predImg = FN.blobs['predImg'].data[0]\n",
    "\n",
    "flow_mask = forward2backwardMap(forward_flow)\n",
    "flow_mask = skimage.morphology.closing(flow_mask,disk(2)) * 255\n",
    "flow_mask = flow_mask\n",
    "\n",
    "forward_flow[0][src_mask==0] = 0\n",
    "forward_flow[1][src_mask==0] = 0\n",
    "\n",
    "MN.blobs['srcMask'].data[0,0] = src_mask\n",
    "MN.blobs['srcFlow'].data[0] = forward_flow\n",
    "MN.blobs['tform'].data[0] = tform_vec\n",
    "\n",
    "MN.forward()\n",
    "predMask = MN.blobs['predMask'].data[0,0]\n",
    "\n",
    "finalMask = predMask.astype(np.float) + flow_mask.astype(np.float)\n",
    "finalMask[finalMask>0] = 255\n",
    "finalImg = np.copy(predImg)\n",
    "finalImg[0][finalMask==0] = 0\n",
    "finalImg[1][finalMask==0] = 0\n",
    "finalImg[2][finalMask==0] = 0\n",
    "display_img_array((np.moveaxis(finalImg,0,2)).astype(np.uint8))"
   ]
  },
  {
   "cell_type": "code",
   "execution_count": null,
   "metadata": {
    "collapsed": true
   },
   "outputs": [],
   "source": []
  },
  {
   "cell_type": "code",
   "execution_count": null,
   "metadata": {},
   "outputs": [],
   "source": []
  },
  {
   "cell_type": "code",
   "execution_count": null,
   "metadata": {},
   "outputs": [],
   "source": []
  }
 ],
 "metadata": {
  "anaconda-cloud": {},
  "kernelspec": {
   "display_name": "Python 3",
   "language": "python",
   "name": "python3"
  },
  "language_info": {
   "codemirror_mode": {
    "name": "ipython",
    "version": 2
   },
   "file_extension": ".py",
   "mimetype": "text/x-python",
   "name": "python",
   "nbconvert_exporter": "python",
   "pygments_lexer": "ipython2",
   "version": "2.7.15"
  }
 },
 "nbformat": 4,
 "nbformat_minor": 1
}
